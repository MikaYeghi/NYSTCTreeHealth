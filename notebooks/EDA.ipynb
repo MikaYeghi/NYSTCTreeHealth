{
 "cells": [
  {
   "cell_type": "markdown",
   "metadata": {},
   "source": [
    "# NY 2015 Street Tree Census EDA\n",
    "This notebook contains code to perform exploratory data analysis (EDA) on the \"NY 2015 Street Tree Census\" dataset."
   ]
  },
  {
   "cell_type": "markdown",
   "metadata": {},
   "source": [
    "First, set up some config variables."
   ]
  },
  {
   "cell_type": "code",
   "execution_count": 1,
   "metadata": {},
   "outputs": [],
   "source": [
    "DATA_PATH = \"../data/raw/2015-street-tree-census-tree-data.csv\""
   ]
  },
  {
   "cell_type": "markdown",
   "metadata": {},
   "source": [
    "Fetch the data and print some high level statistics, such as the number of features and the number of data points (records)."
   ]
  },
  {
   "cell_type": "code",
   "execution_count": 2,
   "metadata": {},
   "outputs": [
    {
     "name": "stdout",
     "output_type": "stream",
     "text": [
      "Extracted a dataset with 45 features (columns) and 683788 data points.\n"
     ]
    }
   ],
   "source": [
    "import pandas as pd\n",
    "df = pd.read_csv(DATA_PATH)\n",
    "print(f\"Extracted a dataset with {len(df.columns)} features (columns) and {len(df)} data points.\")\n",
    "\n",
    "# Data head is too bulky, therefore it's been commented out. Uncomment if you want to see it.\n",
    "# print(\"-\" * 40 + \"DATA HEAD BELOW\" + \"-\" * 40)\n",
    "# print(df.head())"
   ]
  },
  {
   "cell_type": "code",
   "execution_count": 3,
   "metadata": {},
   "outputs": [
    {
     "name": "stdout",
     "output_type": "stream",
     "text": [
      "<class 'pandas.core.frame.DataFrame'>\n",
      "RangeIndex: 683788 entries, 0 to 683787\n",
      "Data columns (total 45 columns):\n",
      " #   Column            Non-Null Count   Dtype  \n",
      "---  ------            --------------   -----  \n",
      " 0   tree_id           683788 non-null  int64  \n",
      " 1   block_id          683788 non-null  int64  \n",
      " 2   created_at        683788 non-null  object \n",
      " 3   tree_dbh          683788 non-null  int64  \n",
      " 4   stump_diam        683788 non-null  int64  \n",
      " 5   curb_loc          683788 non-null  object \n",
      " 6   status            683788 non-null  object \n",
      " 7   health            652172 non-null  object \n",
      " 8   spc_latin         652169 non-null  object \n",
      " 9   spc_common        652169 non-null  object \n",
      " 10  steward           164350 non-null  object \n",
      " 11  guards            79866 non-null   object \n",
      " 12  sidewalk          652172 non-null  object \n",
      " 13  user_type         683788 non-null  object \n",
      " 14  problems          225844 non-null  object \n",
      " 15  root_stone        683788 non-null  object \n",
      " 16  root_grate        683788 non-null  object \n",
      " 17  root_other        683788 non-null  object \n",
      " 18  trunk_wire        683788 non-null  object \n",
      " 19  trnk_light        683788 non-null  object \n",
      " 20  trnk_other        683788 non-null  object \n",
      " 21  brch_light        683788 non-null  object \n",
      " 22  brch_shoe         683788 non-null  object \n",
      " 23  brch_other        683788 non-null  object \n",
      " 24  address           683788 non-null  object \n",
      " 25  postcode          683788 non-null  int64  \n",
      " 26  zip_city          683788 non-null  object \n",
      " 27  community board   683788 non-null  int64  \n",
      " 28  borocode          683788 non-null  int64  \n",
      " 29  borough           683788 non-null  object \n",
      " 30  cncldist          683788 non-null  int64  \n",
      " 31  st_assem          683788 non-null  int64  \n",
      " 32  st_senate         683788 non-null  int64  \n",
      " 33  nta               683788 non-null  object \n",
      " 34  nta_name          683788 non-null  object \n",
      " 35  boro_ct           683788 non-null  int64  \n",
      " 36  state             683788 non-null  object \n",
      " 37  latitude          683788 non-null  float64\n",
      " 38  longitude         683788 non-null  float64\n",
      " 39  x_sp              683788 non-null  float64\n",
      " 40  y_sp              683788 non-null  float64\n",
      " 41  council district  677269 non-null  float64\n",
      " 42  census tract      677269 non-null  float64\n",
      " 43  bin               674229 non-null  float64\n",
      " 44  bbl               674229 non-null  float64\n",
      "dtypes: float64(8), int64(11), object(26)\n",
      "memory usage: 234.8+ MB\n"
     ]
    }
   ],
   "source": [
    "# Print the dataframe information.\n",
    "# Summary: there are 19 numerical features (float & int) and 26 text features (object).\n",
    "df.info()"
   ]
  },
  {
   "cell_type": "code",
   "execution_count": 4,
   "metadata": {},
   "outputs": [
    {
     "data": {
      "text/plain": [
       "0"
      ]
     },
     "execution_count": 4,
     "metadata": {},
     "output_type": "execute_result"
    }
   ],
   "source": [
    "# Check for duplicated values/rows.\n",
    "df.duplicated().sum()"
   ]
  },
  {
   "cell_type": "markdown",
   "metadata": {},
   "source": [
    "## Tree Health Distribution"
   ]
  },
  {
   "cell_type": "markdown",
   "metadata": {},
   "source": [
    "Let's take a look at the distribution of the target class -- tree health."
   ]
  },
  {
   "cell_type": "code",
   "execution_count": 5,
   "metadata": {},
   "outputs": [
    {
     "data": {
      "image/png": "[encoded data removed]",
      "text/plain": [
       "<Figure size 640x480 with 1 Axes>"
      ]
     },
     "metadata": {},
     "output_type": "display_data"
    }
   ],
   "source": [
    "import seaborn as sns\n",
    "import matplotlib.pyplot as plt\n",
    "\n",
    "sns.set_theme(\"notebook\")\n",
    "\n",
    "# Plot the distribution of the `health` column\n",
    "ax = sns.countplot(x='health', data=df)\n",
    "\n",
    "total = len(df[df['health'].notna()])\n",
    "for p in ax.patches:\n",
    "    count = p.get_height()\n",
    "    percentage = f'{100 * count / total:.1f}%'\n",
    "    x = p.get_x() + p.get_width() / 2\n",
    "    y = p.get_height()\n",
    "    ax.annotate(percentage, (x, y), ha='center', va='bottom')\n",
    "\n",
    "plt.title('Distribution of Health Categories')\n",
    "plt.xlabel('Health')\n",
    "plt.ylabel('Count')\n",
    "plt.show()\n"
   ]
  },
  {
   "cell_type": "markdown",
   "metadata": {},
   "source": [
    "As you can see, most of the data (around 80%) is occupied by one class -- `Good` health. While the imbalance is not TOO extreme, it must be accounted for in the future. Given the small size of the dataset, we will likely **NOT** drop records for balancing the data, but instead we will tweak the loss function during training to force the model to concentrate on harder examples."
   ]
  },
  {
   "cell_type": "markdown",
   "metadata": {},
   "source": [
    "## Cleaning Up the Data"
   ]
  },
  {
   "cell_type": "markdown",
   "metadata": {},
   "source": [
    "Drop some irrelevant features/columns or rows. The following columns are dropped:\n",
    "<ul>\n",
    "    <li> <b>Tree ID</b> -- this has no meaningful contribution to predicting the tree health.\n",
    "    <li> <b>State</b> -- all records are from New York, hence this field carries no meaningful information.\n",
    "    <li> <b>Stump diameter</b> -- because we removed all the stumps from our analysis, we don't need this column.\n",
    "    <li> <b>Tree status</b> -- stumps and dead trees carry no direct value for the purposes of analyzing the health of alive trees.\n",
    "    <li> <b>Other parameters</b> -- `bin` and `bbl` columns are quite vague and have no documentation describing their purpose. They will also be dropped.\n",
    "    <li> <b>Problems</b> -- the `problems` field is important, but it duplicates some other fields, such as `root_stone` etc. Hence, it should be dropped.\n",
    "</ul>\n",
    "\n",
    "NOTE: more data are removed subsequently in this notebook. Please follow the analysis below."
   ]
  },
  {
   "cell_type": "code",
   "execution_count": 6,
   "metadata": {},
   "outputs": [],
   "source": [
    "# Drop the unneccessary columns.\n",
    "columns_to_drop = ['tree_id', 'state', 'stump_diam', 'bin', 'bbl', 'problems']\n",
    "df.drop(columns=columns_to_drop, inplace=True)"
   ]
  },
  {
   "cell_type": "code",
   "execution_count": 7,
   "metadata": {},
   "outputs": [],
   "source": [
    "# Remove all the rows that correspond to stumps or dead trees.\n",
    "df = df[df['status'] == \"Alive\"]\n",
    "df.drop(columns=['status'], inplace=True)"
   ]
  },
  {
   "cell_type": "markdown",
   "metadata": {},
   "source": [
    "Some columns are a 1-to-1 mapping of each other. For example, the borough name column duplicates the borough code column, despite they contain data in different formats.\n",
    "The code below check for such duplicate columns and prints out all duplications."
   ]
  },
  {
   "cell_type": "code",
   "execution_count": 8,
   "metadata": {},
   "outputs": [],
   "source": [
    "def is_one_to_one(df, col1, col2):\n",
    "    \"\"\"\n",
    "    Checks if the relationship between col1 and col2 in df is 1-to-1.\n",
    "\n",
    "    Solution taken from: https://stackoverflow.com/questions/50643386/easy-way-to-see-if-two-columns-are-one-to-one-in-pandas\n",
    "    \"\"\"\n",
    "    first = df.drop_duplicates([col1, col2]).groupby(col1)[col2].count().max()\n",
    "    second = df.drop_duplicates([col1, col2]).groupby(col2)[col1].count().max()\n",
    "    return first + second == 2\n",
    "\n",
    "# NOTE: the code below takes some time to run (it took me about 3 minutes). \n",
    "# It simply proves that certain pairs of columns are duplicates (they have a 1-to-1 mapping).\n",
    "# Shortcut is simply to jump to the next cell where one of the duplicates columns is dropped.\n",
    "\n",
    "# Loop through all column pairs and search for 1-to-1 mappings.\n",
    "# NOTE: Uncomment the code below to run it.\n",
    "# print(f\"Total number of columns: {len(df.columns)}\")\n",
    "# for i in range(len(df.columns)):\n",
    "#     for j in range(i + 1, len(df.columns)):\n",
    "#         if is_one_to_one(df, df.columns[i], df.columns[j]):\n",
    "#             print(f\"Duplicate columns: {df.columns[i]}, {df.columns[j]}\")\n",
    "#     print(f\"{i + 1}/{len(df.columns)}\")"
   ]
  },
  {
   "cell_type": "code",
   "execution_count": 9,
   "metadata": {},
   "outputs": [],
   "source": [
    "# Drop duplicated columns, i.e. they introduce no additional information to the dataset.\n",
    "df.drop(columns=['nta_name', 'borough', 'spc_common'], inplace=True)"
   ]
  },
  {
   "cell_type": "markdown",
   "metadata": {},
   "source": [
    "## Are the address-related features relevant?"
   ]
  },
  {
   "cell_type": "markdown",
   "metadata": {},
   "source": [
    "The dataset contains quite a lot of data specifying the location of the tree. These data include, but are not limited to, features like: blockface, estimated address, zipcode, etc. While such data might be relevant to predicting the healthiness of a tree (e.g. because some neighborhoods are better maintained), it is likely an overkill. See the analysis below."
   ]
  },
  {
   "cell_type": "code",
   "execution_count": 10,
   "metadata": {},
   "outputs": [
    {
     "name": "stdout",
     "output_type": "stream",
     "text": [
      "13 location-related features in total.\n"
     ]
    }
   ],
   "source": [
    "# List of location-related features, excluding X/Y-coordinates and longitude/latitude, because they are analyzed below:\n",
    "# block_id, address, postcode (original: zipcode), zip_city, community board (original: cb_num), borocode, cncldist, st_assem, st_senate, nta.\n",
    "loc_rel_features = [\"block_id\", \"address\", \"postcode\", \"zip_city\", \"community board\", \"borocode\", \"cncldist\", \"council district\", \"st_assem\", \"st_senate\", \"nta\", \"census tract\", \"boro_ct\"]\n",
    "print(f\"{len(loc_rel_features)} location-related features in total.\")"
   ]
  },
  {
   "cell_type": "markdown",
   "metadata": {},
   "source": [
    "Get the number of unique values for each feature. Print some information about these columns."
   ]
  },
  {
   "cell_type": "code",
   "execution_count": 11,
   "metadata": {},
   "outputs": [
    {
     "name": "stdout",
     "output_type": "stream",
     "text": [
      "block_id            100700\n",
      "address             395403\n",
      "postcode               191\n",
      "zip_city                48\n",
      "community board         59\n",
      "borocode                 5\n",
      "cncldist                51\n",
      "council district        51\n",
      "st_assem                65\n",
      "st_senate               26\n",
      "nta                    188\n",
      "census tract          1314\n",
      "boro_ct               2152\n",
      "dtype: int64\n",
      "<class 'pandas.core.frame.DataFrame'>\n",
      "Index: 652173 entries, 0 to 683787\n",
      "Data columns (total 13 columns):\n",
      " #   Column            Non-Null Count   Dtype  \n",
      "---  ------            --------------   -----  \n",
      " 0   block_id          652173 non-null  int64  \n",
      " 1   address           652173 non-null  object \n",
      " 2   postcode          652173 non-null  int64  \n",
      " 3   zip_city          652173 non-null  object \n",
      " 4   community board   652173 non-null  int64  \n",
      " 5   borocode          652173 non-null  int64  \n",
      " 6   cncldist          652173 non-null  int64  \n",
      " 7   council district  645967 non-null  float64\n",
      " 8   st_assem          652173 non-null  int64  \n",
      " 9   st_senate         652173 non-null  int64  \n",
      " 10  nta               652173 non-null  object \n",
      " 11  census tract      645967 non-null  float64\n",
      " 12  boro_ct           652173 non-null  int64  \n",
      "dtypes: float64(2), int64(8), object(3)\n",
      "memory usage: 69.7+ MB\n",
      "None\n"
     ]
    }
   ],
   "source": [
    "print(df[loc_rel_features].nunique())\n",
    "print(df[loc_rel_features].info())"
   ]
  },
  {
   "cell_type": "code",
   "execution_count": 12,
   "metadata": {},
   "outputs": [
    {
     "name": "stdout",
     "output_type": "stream",
     "text": [
      "--------------------------------------------------------------------------------\n",
      "Feature: block_id.\n",
      "[348711 315986 218365 ... 104864 310789 348185]\n",
      "--------------------------------------------------------------------------------\n",
      "Feature: address.\n",
      "['108-005 70 AVENUE' '147-074 7 AVENUE' '390 MORGAN AVENUE' ...\n",
      " '32 MARCY AVENUE' '67-035 SELFRIDGE STREET' '69-069 183 STREET']\n",
      "--------------------------------------------------------------------------------\n",
      "Feature: postcode.\n",
      "[11375 11357 11211 11215 10023 10019 10305 11223 11105 10308 11205 11212\n",
      " 11214 11226 11373 10021 10024 10306 11217 11415 11230 10002 11385 10457\n",
      " 11235 10009 10012 10314 11204 11229 11365 10312 10458 10016 10011 11370\n",
      " 11231 10025 11372 10467 10453 11209 11358 10027 11203 11355 10115 11210\n",
      " 10014 11374 11691 11237 11238 11368 11413 11429 10470 11369 10075 11106\n",
      " 10010 11421 11693 10003 11218 11201 10065 11694 11222 11354 10468 11234\n",
      " 10036 10017 10038 11232 10048 10026 11101 11219 11412 11361 11364 11432\n",
      " 11356 10452 11362 11216 11249 10461 11102 11427 11414 11207 11233 11206\n",
      " 11692 10013 10280 10128 11220 10028 10456 10460 11418 10465 11228 11103\n",
      " 10309 10466 11377 11221 10463 11225 10022 10001 11434 11224 11236 10032\n",
      " 10304 10307 11367 11213 11366 10029 10310 10459 11416 11208 11104 11426\n",
      " 10031 11420 10301 11360 11411 10454 10473 10462 11422 11417 10034 10474\n",
      " 10018 10303 10069 10040 11435 11363 11004 10471 10033 10035    83 10472\n",
      " 10005 10469 11433 10037 10004 10007 10475 11697 10039 11379 11423 11428\n",
      " 11040 11378 10030 10302 10455 10451 10020 11001 11005 11436 11419 10111\n",
      " 10281 11239 10464 10282 10006 11109 11096 11430 11371 11451 11251]\n",
      "--------------------------------------------------------------------------------\n",
      "Feature: zip_city.\n",
      "['Forest Hills' 'Whitestone' 'Brooklyn' 'New York' 'Staten Island'\n",
      " 'Astoria' 'Elmhurst' 'Kew Gardens' 'Ridgewood' 'Bronx' 'Fresh Meadows'\n",
      " 'East Elmhurst' 'Jackson Heights' 'Flushing' 'Rego Park' 'Far Rockaway'\n",
      " 'Corona' 'Springfield Gardens' 'Queens Village' 'Woodhaven'\n",
      " 'Rockaway Park' 'Long Island City' 'Saint Albans' 'Bayside'\n",
      " 'Oakland Gardens' 'Jamaica' 'College Point' 'Little Neck' 'Howard Beach'\n",
      " 'Arverne' 'Richmond Hill' 'Woodside' 'Ozone Park' 'Sunnyside' 'Bellerose'\n",
      " 'South Ozone Park' 'Cambria Heights' 'Rosedale' 'Glen Oaks'\n",
      " 'Central Park' 'Breezy Point' 'Middle Village' 'Hollis' 'New Hyde Park'\n",
      " 'Maspeth' 'Floral Park' 'South Richmond Hill' 'Inwood']\n",
      "--------------------------------------------------------------------------------\n",
      "Feature: community board.\n",
      "[406 407 301 306 107 104 502 313 401 503 302 316 311 314 404 307 108 409\n",
      " 312 103 405 206 205 315 106 102 105 109 403 207 310 317 414 304 413 308\n",
      " 212 408 411 318 208 101 110 402 412 204 211 410 305 203 303 209 501 210\n",
      " 309 201 112 111 202]\n",
      "--------------------------------------------------------------------------------\n",
      "Feature: borocode.\n",
      "[4 3 1 5 2]\n",
      "--------------------------------------------------------------------------------\n",
      "Feature: cncldist.\n",
      "[29 19 34 39  3 50 47 22 51 35 41 40 21 38  4  6 44  1 17 15 48 20  2  7\n",
      " 25 11 14 43 45 31 37 27  5 30 32 24 46 33  9 26 23  8 13 36 16 18 12 42\n",
      " 10 49 28]\n",
      "--------------------------------------------------------------------------------\n",
      "Feature: council district.\n",
      "[29. 19. 34. 39.  3. nan 47. 22. 51. 35. 41. 40. 21.  4.  6. 50. 44.  1.\n",
      " 17. 15. 48. 20.  2. 25. 11. 14. 43.  7. 45. 31. 37. 27.  5. 30. 32. 24.\n",
      " 46. 33. 38.  9. 26. 23.  8. 13. 36. 16. 18. 12. 10. 42. 49. 28.]\n",
      "--------------------------------------------------------------------------------\n",
      "Feature: st_assem.\n",
      "[28 27 50 53 44 67 75 64 45 36 62 55 47 42 35 57 73 52 48 65 37 86 74 66\n",
      " 63 41 25 78 69 39 80 77 46 26 58 70 40 23 31 33 49 81 76 38 59 51 34 29\n",
      " 24 54 84 56 43 79 87 83 82 30 72 71 68 61 60 85 32]\n",
      "--------------------------------------------------------------------------------\n",
      "Feature: st_senate.\n",
      "[16 11 18 21 27 23 13 24 25 20 28 29 22 14 26 12 33 17 31 30 36 15 10 34\n",
      " 32 19]\n",
      "--------------------------------------------------------------------------------\n",
      "Feature: nta.\n",
      "['QN17' 'QN49' 'BK90' 'BK37' 'MN14' 'MN15' 'SI14' 'BK26' 'QN72' 'SI54'\n",
      " 'BK69' 'BK81' 'BK29' 'BK42' 'QN25' 'BK68' 'MN40' 'MN12' 'SI25' 'QN60'\n",
      " 'BK46' 'MN27' 'QN20' 'BX17' 'SI36' 'BX41' 'SI45' 'BK17' 'MN50' 'MN24'\n",
      " 'SI24' 'BK44' 'QN62' 'SI01' 'BX06' 'SI48' 'MN20' 'MN23' 'BK33' 'MN09'\n",
      " 'QN28' 'BX43' 'BX36' 'BK19' 'BK31' 'BK43' 'QN51' 'BK96' 'QN22' 'QN15'\n",
      " 'BK77' 'QN12' 'BX40' 'QN03' 'QN18' 'QN34' 'BK64' 'BK28' 'BK95' 'BX62'\n",
      " 'QN27' 'MN31' 'QN70' 'MN21' 'QN53' 'QN10' 'BK41' 'QN41' 'QN48' 'BK76'\n",
      " 'SI05' 'BX28' 'BK58' 'BK25' 'MN17' 'QN19' 'MN25' 'MN11' 'QN31' 'BK88'\n",
      " 'QN08' 'QN66' 'QN46' 'QN42' 'QN06' 'QN23' 'BX01' 'MN19' 'BX26' 'QN45'\n",
      " 'BK61' 'BK73' 'BX49' 'QN71' 'QN57' 'BK82' 'BK78' 'BK79' 'BK60' 'MN28'\n",
      " 'MN13' 'BK34' 'BK75' 'BX08' 'QN54' 'SI07' 'BX52' 'BK45' 'MN32' 'BX03'\n",
      " 'QN50' 'BK35' 'BX30' 'BX37' 'BX34' 'BK85' 'BK27' 'BK21' 'SI32' 'MN22'\n",
      " 'BK83' 'BK50' 'BK32' 'MN36' 'SI11' 'QN37' 'BX10' 'BK72' 'MN33' 'QN63'\n",
      " 'SI35' 'QN43' 'BX75' 'BK30' 'QN29' 'SI12' 'QN44' 'BK63' 'MN04' 'QN55'\n",
      " 'MN06' 'QN47' 'BX33' 'QN33' 'SI37' 'BK91' 'BK23' 'BX39' 'BX09' 'BK38'\n",
      " 'BX63' 'BX05' 'QN05' 'BX29' 'QN56' 'MN01' 'BX27' 'SI22' 'QN35' 'QN68'\n",
      " 'BK40' 'BX44' 'MN35' 'QN52' 'QN38' 'BX14' 'BX22' 'BK09' 'SI28' 'SI08'\n",
      " 'MN34' 'QN26' 'BX35' 'BX55' 'BX31' 'QN61' 'BX46' 'MN03' 'BX13' 'QN21'\n",
      " 'QN07' 'QN76' 'QN30' 'QN01' 'BX59' 'QN02' 'BK93' 'BX07']\n",
      "--------------------------------------------------------------------------------\n",
      "Feature: census tract.\n",
      "[  739.   973.   449. ...  1401. 17402. 24302.]\n",
      "--------------------------------------------------------------------------------\n",
      "Feature: boro_ct.\n",
      "[4073900 4097300 3044900 ... 1008400 3028502 1031900]\n"
     ]
    }
   ],
   "source": [
    "# Print some unique values for each of the location-related features.\n",
    "for feature in loc_rel_features:\n",
    "    print(\"-\" * 80)\n",
    "    print(f\"Feature: {feature}.\")\n",
    "    print(df[feature].unique())"
   ]
  },
  {
   "cell_type": "markdown",
   "metadata": {},
   "source": [
    "Some location-related features, such as block_id and address, are just too numerous and will not help in making correct predictions. On the contrary, they might contribute to overfitting, as the trained model might try to remember a tree health based on the address. Moreover, all of these features technically are derivatives of X/Y-coordinates or longitude/latitude, hence they do not carry added value. I'd drop all of them, but I first want to visualize how borocode relates to the tree health. See the figure below."
   ]
  },
  {
   "cell_type": "code",
   "execution_count": 13,
   "metadata": {},
   "outputs": [
    {
     "name": "stdout",
     "output_type": "stream",
     "text": [
      "{1: {'Fair': 11460, 'Good': 47358, 'Poor': 3609},\n",
      " 2: {'Fair': 10887, 'Good': 66603, 'Poor': 3095},\n",
      " 3: {'Fair': 25073, 'Good': 138212, 'Poor': 6459},\n",
      " 4: {'Fair': 34549, 'Good': 194008, 'Poor': 9417},\n",
      " 5: {'Fair': 14535, 'Good': 82669, 'Poor': 4238}}\n",
      "--------------------------------------------------------------------------------\n",
      "{1: {'Fair': 0.1835744149166226,\n",
      "     'Good': 0.758614061223509,\n",
      "     'Poor': 0.057811523859868326},\n",
      " 2: {'Fair': 0.13509958428988025,\n",
      "     'Good': 0.8264937643482038,\n",
      "     'Poor': 0.03840665136191599},\n",
      " 3: {'Fair': 0.1477106701856914,\n",
      "     'Good': 0.8142379112074654,\n",
      "     'Poor': 0.038051418606843246},\n",
      " 4: {'Fair': 0.14517972551623287,\n",
      "     'Good': 0.8152487246505921,\n",
      "     'Poor': 0.039571549833175054},\n",
      " 5: {'Fair': 0.14328384692730822,\n",
      "     'Good': 0.8149385855957099,\n",
      "     'Poor': 0.04177756747698192}}\n"
     ]
    }
   ],
   "source": [
    "from pprint import pprint\n",
    "\n",
    "# Accumulate the data describing the distribution of health vs borocode\n",
    "borocode_dist = {borocode: {\"Good\": 0, \"Fair\": 0, \"Poor\": 0} for borocode in df.borocode.unique()}\n",
    "for borocode, dist in borocode_dist.items():\n",
    "    for health in dist.keys():\n",
    "        borocode_dist[borocode][health] = len(df[(df['borocode'] == borocode) & (df['health'] == health)])\n",
    "pprint(borocode_dist)\n",
    "print(\"-\" * 80)\n",
    "\n",
    "# Normalize within each borocode.\n",
    "normalized_borocode_dist = {}\n",
    "for borocode, health in borocode_dist.items():\n",
    "    total = sum(health.values())\n",
    "    normalized_borocode_dist[borocode] = {\n",
    "        k: v / total for k, v in borocode_dist[borocode].items()\n",
    "    }\n",
    "pprint(normalized_borocode_dist)"
   ]
  },
  {
   "cell_type": "code",
   "execution_count": 14,
   "metadata": {},
   "outputs": [
    {
     "data": {
      "image/png": "[encoded data removed]",
      "text/plain": [
       "<Figure size 1400x600 with 2 Axes>"
      ]
     },
     "metadata": {},
     "output_type": "display_data"
    }
   ],
   "source": [
    "from matplotlib import pyplot as plt\n",
    "import seaborn as sns\n",
    "sns.set_theme(\"notebook\")\n",
    "\n",
    "# Convert the unnormalized distribution into a DataFrame.\n",
    "unnormalized_data = []\n",
    "for borocode, dist in borocode_dist.items():\n",
    "    for health, count in dist.items():\n",
    "        unnormalized_data.append([borocode, health, count])\n",
    "\n",
    "# Convert the normalized distribution into a DataFrame.\n",
    "normalized_data = []\n",
    "for borocode, dist in normalized_borocode_dist.items():\n",
    "    for health, proportion in dist.items():\n",
    "        normalized_data.append([borocode, health, proportion])\n",
    "\n",
    "# Create DataFrames.\n",
    "df_borocode_unnormalized = pd.DataFrame(unnormalized_data, columns=['borocode', 'health', 'count'])\n",
    "df_borocode_normalized = pd.DataFrame(normalized_data, columns=['borocode', 'health', 'proportion'])\n",
    "\n",
    "# Set up the subplots.\n",
    "fig, axes = plt.subplots(1, 2, figsize=(14, 6))\n",
    "\n",
    "# Plot the unnormalized distribution.\n",
    "sns.barplot(x='borocode', y='count', hue='health', data=df_borocode_unnormalized, ax=axes[0])\n",
    "axes[0].set_title('Unnormalized Tree Health Distribution by Borough Code')\n",
    "axes[0].set_xlabel('Borough Code')\n",
    "axes[0].set_ylabel('Count')\n",
    "\n",
    "# Plot the normalized distribution.\n",
    "sns.barplot(x='borocode', y='proportion', hue='health', data=df_borocode_normalized, ax=axes[1])\n",
    "axes[1].set_title('Normalized Tree Health Distribution by Borough Code')\n",
    "axes[1].set_xlabel('Borough Code')\n",
    "axes[1].set_ylabel('Proportion')\n",
    "\n",
    "plt.show()"
   ]
  },
  {
   "cell_type": "markdown",
   "metadata": {},
   "source": [
    "Normalized distribution by borough code tells us that the borough code provides little prior for deducing the tree health, because the distributions of tree health per borough code are quite similar. I am going to drop all of the location-related features, except X/Y-coordinates and longitude/latitude, because they are analyzed below."
   ]
  },
  {
   "cell_type": "code",
   "execution_count": 15,
   "metadata": {},
   "outputs": [],
   "source": [
    "# Drop location-related features.\n",
    "df.drop(columns=loc_rel_features, inplace=True)"
   ]
  },
  {
   "cell_type": "markdown",
   "metadata": {},
   "source": [
    "## Longitude/Latitude or X/Y?"
   ]
  },
  {
   "cell_type": "markdown",
   "metadata": {},
   "source": [
    "Metadata provided along with the data hints that the longitude/latitude and X/Y-coordinate fields are duplicating each other. The figure below supports this argument by showing that there is a linear relation between X-longitude and Y-latitude, which implies that one of these measures is redundant."
   ]
  },
  {
   "cell_type": "code",
   "execution_count": 16,
   "metadata": {},
   "outputs": [
    {
     "data": {
      "image/png": "[encoded data removed]",
      "text/plain": [
       "<Figure size 1200x500 with 2 Axes>"
      ]
     },
     "metadata": {},
     "output_type": "display_data"
    }
   ],
   "source": [
    "import seaborn as sns\n",
    "from matplotlib import pyplot as plt\n",
    "\n",
    "plt.rcParams['agg.path.chunksize'] = 1000\n",
    "sns.set_theme(\"notebook\")\n",
    "\n",
    "fig, (ax1, ax2) = plt.subplots(1, 2, figsize=(12, 5))\n",
    "\n",
    "ax1.scatter(df['x_sp'].tolist(), df['longitude'], s=1)\n",
    "ax1.set_xlabel(\"X coordinate\")\n",
    "ax1.set_ylabel(\"Longitude\")\n",
    "ax1.set_title(\"X vs Longitude\")\n",
    "\n",
    "ax2.scatter(df['y_sp'].tolist(), df['latitude'], s=1)\n",
    "ax2.set_xlabel(\"Y coordinate\")\n",
    "ax2.set_ylabel(\"Latitude\")\n",
    "ax2.set_title(\"Y vs Latitude\")\n",
    "\n",
    "plt.tight_layout()\n",
    "plt.show()\n"
   ]
  },
  {
   "cell_type": "markdown",
   "metadata": {},
   "source": [
    "How do we know which one to drop? I decided to drop the measures which are less fine-grained. The smaller the least fraction compared to the maximum range between any 2 points belonging to the same field/column, the more fine-grained it is.\n",
    "\n",
    "Based on the analysis below, we can conclude that the X/Y measures, despite having a (almost) 1-to-1 mapping to longitude and latitude, are more fine-grained, hence it makes sense to use them. Based on this conclusion, the X/Y coordinate columns are preserved, while longitude/latitude are dropped."
   ]
  },
  {
   "cell_type": "code",
   "execution_count": 17,
   "metadata": {},
   "outputs": [
    {
     "name": "stdout",
     "output_type": "stream",
     "text": [
      "1.949338252436119e-09 1.80350171394564e-08\n",
      "1.98780406177423e-09 2.4128221410871738e-08\n"
     ]
    }
   ],
   "source": [
    "import numpy as np\n",
    "\n",
    "def get_min_distance(arr):\n",
    "    \"\"\"\n",
    "    Returns the minimum non-zero distance between any 2 values in the array.\n",
    "    \"\"\"\n",
    "    sorted_arr = np.sort(np.array(arr))\n",
    "    distances = np.diff(sorted_arr)\n",
    "    nonzero_distances = distances[distances > 0]\n",
    "    return np.min(nonzero_distances).item()\n",
    "\n",
    "# Compute the minimum non-zero distance between any 2 values in the following arrays: \n",
    "# 1. X-coordinates (x_sp) \n",
    "# 2. Y-coordinates (y_sp) \n",
    "# 3. Longitude (longitude)\n",
    "# 4. Latitude (latitude)\n",
    "x_min_dist      = get_min_distance(df['x_sp'].tolist())         # minimum distance between any 2 x-coordinates\n",
    "y_min_dist      = get_min_distance(df['y_sp'].tolist())         # minimum distance between any 2 y-coordinates\n",
    "long_min_dist   = get_min_distance(df['longitude'].tolist())    # minimum distance between any 2 longitude values\n",
    "lat_min_dist    = get_min_distance(df['latitude'].tolist())     # minimum distance between any 2 latitude values\n",
    "\n",
    "x_range         = max(df['x_sp']) - min(df['x_sp'])             # x_max - x_min\n",
    "y_range         = max(df['y_sp']) - min(df['y_sp'])             # y_max - y_min\n",
    "long_range      = max(df['longitude']) - min(df['longitude'])   # longitude_max - longitude_min\n",
    "lat_range       = max(df['latitude']) - min(df['latitude'])     # latitude_max - latitude_min\n",
    "\n",
    "# Using the minimum distances, find which metric is more fine-grained by computing how small of a fraction of the maximum distance it covers.\n",
    "x_frac          = x_min_dist / x_range                          # fraction of the minimum x distance\n",
    "y_frac          = y_min_dist / y_range                          # fraction of the minimum y distance\n",
    "long_frac       = long_min_dist / long_range                    # fraction of the minimum longitude distance\n",
    "lat_frac        = lat_min_dist / lat_range                      # fraction of the minimum latitude distance\n",
    "\n",
    "print(x_frac, long_frac)\n",
    "print(y_frac, lat_frac)"
   ]
  },
  {
   "cell_type": "code",
   "execution_count": 18,
   "metadata": {},
   "outputs": [],
   "source": [
    "# Drop longitude and latitude because they are redundant.\n",
    "df.drop(columns=['longitude', 'latitude'], inplace=True)"
   ]
  },
  {
   "cell_type": "markdown",
   "metadata": {},
   "source": [
    "## X/Y vs Tree Health"
   ]
  },
  {
   "cell_type": "markdown",
   "metadata": {},
   "source": [
    "Below is a plot outlining the distribution of tree health on an X-Y plane."
   ]
  },
  {
   "cell_type": "code",
   "execution_count": 19,
   "metadata": {},
   "outputs": [
    {
     "data": {
      "image/png": "[encoded data removed]",
      "text/plain": [
       "<Figure size 1000x800 with 2 Axes>"
      ]
     },
     "metadata": {},
     "output_type": "display_data"
    }
   ],
   "source": [
    "# Plot a sample of the dataset. Plotting all 600k points is too heavy.\n",
    "df_sub = df.sample(n=1000, random_state=42)\n",
    "health_map = {'Good': 1.0, 'Fair': 0.5, 'Poor': 0.0}\n",
    "df_sub['health_score'] = df_sub['health'].map(health_map)\n",
    "\n",
    "# Plot\n",
    "fig, ax = plt.subplots(figsize=(10, 8))\n",
    "ax = sns.kdeplot(\n",
    "    x=df_sub['x_sp'],\n",
    "    y=df_sub['y_sp'],\n",
    "    weights=df_sub['health_score'],\n",
    "    fill=True,\n",
    "    cmap='coolwarm'\n",
    ")\n",
    "mappable = ax.collections[0]\n",
    "fig.colorbar(mappable, ax=ax, label='Health (Warmer -> Healthier)')\n",
    "\n",
    "ax.set_title('Tree Health Heatmap (Good/Fair/Poor)')\n",
    "ax.set_xlabel('')\n",
    "ax.set_ylabel('')\n",
    "ax.set_xticks([])\n",
    "ax.set_yticks([])\n",
    "\n",
    "plt.show()"
   ]
  },
  {
   "cell_type": "markdown",
   "metadata": {},
   "source": [
    "There is clearly a distribution of the tree health depending on its location based on X/Y-coordinates. \n",
    "While location itself does not directly affect the tree health, but it indirectly does -- there might be soil health distribution which is reflected in the tree health. Therefore, we will keep these parameters in the dataset."
   ]
  },
  {
   "cell_type": "markdown",
   "metadata": {},
   "source": [
    "## Distribution of Dates"
   ]
  },
  {
   "cell_type": "markdown",
   "metadata": {},
   "source": [
    "Trees have been mapped at different dates. See the distribution of the dates below."
   ]
  },
  {
   "cell_type": "code",
   "execution_count": 20,
   "metadata": {},
   "outputs": [
    {
     "data": {
      "text/html": [
       "<div>\n",
       "<style scoped>\n",
       "    .dataframe tbody tr th:only-of-type {\n",
       "        vertical-align: middle;\n",
       "    }\n",
       "\n",
       "    .dataframe tbody tr th {\n",
       "        vertical-align: top;\n",
       "    }\n",
       "\n",
       "    .dataframe thead th {\n",
       "        text-align: right;\n",
       "    }\n",
       "</style>\n",
       "<table border=\"1\" class=\"dataframe\">\n",
       "  <thead>\n",
       "    <tr style=\"text-align: right;\">\n",
       "      <th></th>\n",
       "      <th>created_at</th>\n",
       "      <th>created_at_datetime</th>\n",
       "    </tr>\n",
       "  </thead>\n",
       "  <tbody>\n",
       "    <tr>\n",
       "      <th>0</th>\n",
       "      <td>2015-08-27T00:00:00.000</td>\n",
       "      <td>2015-08-27</td>\n",
       "    </tr>\n",
       "    <tr>\n",
       "      <th>1</th>\n",
       "      <td>2015-09-03T00:00:00.000</td>\n",
       "      <td>2015-09-03</td>\n",
       "    </tr>\n",
       "    <tr>\n",
       "      <th>2</th>\n",
       "      <td>2015-09-05T00:00:00.000</td>\n",
       "      <td>2015-09-05</td>\n",
       "    </tr>\n",
       "    <tr>\n",
       "      <th>3</th>\n",
       "      <td>2015-09-05T00:00:00.000</td>\n",
       "      <td>2015-09-05</td>\n",
       "    </tr>\n",
       "    <tr>\n",
       "      <th>4</th>\n",
       "      <td>2015-08-30T00:00:00.000</td>\n",
       "      <td>2015-08-30</td>\n",
       "    </tr>\n",
       "    <tr>\n",
       "      <th>...</th>\n",
       "      <td>...</td>\n",
       "      <td>...</td>\n",
       "    </tr>\n",
       "    <tr>\n",
       "      <th>683783</th>\n",
       "      <td>2015-08-18T00:00:00.000</td>\n",
       "      <td>2015-08-18</td>\n",
       "    </tr>\n",
       "    <tr>\n",
       "      <th>683784</th>\n",
       "      <td>2015-08-29T00:00:00.000</td>\n",
       "      <td>2015-08-29</td>\n",
       "    </tr>\n",
       "    <tr>\n",
       "      <th>683785</th>\n",
       "      <td>2015-08-22T00:00:00.000</td>\n",
       "      <td>2015-08-22</td>\n",
       "    </tr>\n",
       "    <tr>\n",
       "      <th>683786</th>\n",
       "      <td>2015-08-29T00:00:00.000</td>\n",
       "      <td>2015-08-29</td>\n",
       "    </tr>\n",
       "    <tr>\n",
       "      <th>683787</th>\n",
       "      <td>2015-09-03T00:00:00.000</td>\n",
       "      <td>2015-09-03</td>\n",
       "    </tr>\n",
       "  </tbody>\n",
       "</table>\n",
       "<p>652173 rows × 2 columns</p>\n",
       "</div>"
      ],
      "text/plain": [
       "                     created_at created_at_datetime\n",
       "0       2015-08-27T00:00:00.000          2015-08-27\n",
       "1       2015-09-03T00:00:00.000          2015-09-03\n",
       "2       2015-09-05T00:00:00.000          2015-09-05\n",
       "3       2015-09-05T00:00:00.000          2015-09-05\n",
       "4       2015-08-30T00:00:00.000          2015-08-30\n",
       "...                         ...                 ...\n",
       "683783  2015-08-18T00:00:00.000          2015-08-18\n",
       "683784  2015-08-29T00:00:00.000          2015-08-29\n",
       "683785  2015-08-22T00:00:00.000          2015-08-22\n",
       "683786  2015-08-29T00:00:00.000          2015-08-29\n",
       "683787  2015-09-03T00:00:00.000          2015-09-03\n",
       "\n",
       "[652173 rows x 2 columns]"
      ]
     },
     "execution_count": 20,
     "metadata": {},
     "output_type": "execute_result"
    }
   ],
   "source": [
    "# Convert 'created_at' column to datetime object.\n",
    "df['created_at_datetime'] = pd.to_datetime(df['created_at'])\n",
    "df[[\"created_at\", \"created_at_datetime\"]]"
   ]
  },
  {
   "cell_type": "code",
   "execution_count": 21,
   "metadata": {},
   "outputs": [
    {
     "data": {
      "image/png": "[encoded data removed]",
      "text/plain": [
       "<Figure size 1000x600 with 1 Axes>"
      ]
     },
     "metadata": {},
     "output_type": "display_data"
    }
   ],
   "source": [
    "# Plot the number of dates groupped by years.\n",
    "df['year'] = df['created_at_datetime'].dt.year\n",
    "fig, ax = plt.subplots(figsize=(10, 6))\n",
    "df['year'].value_counts().sort_index().plot(kind='bar')\n",
    "ax.set_xlabel('Year')\n",
    "ax.set_ylabel('Frequency')\n",
    "ax.set_title('Frequency of Data Points by Year')\n",
    "plt.xticks(rotation=45)\n",
    "plt.show()"
   ]
  },
  {
   "cell_type": "code",
   "execution_count": 22,
   "metadata": {},
   "outputs": [
    {
     "data": {
      "image/png": "[encoded data removed]",
      "text/plain": [
       "<Figure size 1200x600 with 1 Axes>"
      ]
     },
     "metadata": {},
     "output_type": "display_data"
    }
   ],
   "source": [
    "# Plot histogram of frequency by year and month.\n",
    "df['year_month'] = df['created_at_datetime'].dt.to_period('M')\n",
    "plt.figure(figsize=(12, 6))\n",
    "df['year_month'].value_counts().sort_index().plot(kind='bar')\n",
    "plt.xlabel('Year-Month')\n",
    "plt.ylabel('Frequency')\n",
    "plt.title('Frequency of Data Points by Year and Month')\n",
    "plt.xticks(rotation=45)\n",
    "plt.show()"
   ]
  },
  {
   "cell_type": "markdown",
   "metadata": {},
   "source": [
    "All of the data has been captured pretty recently: in 2015-2016. Most of the data (about 480k records) were captured in 2015, while the remaining part (about 170k) were captured in 2016. \n",
    "\n",
    "Very little data was captured in the first 4 months of 2016: from January to April inclusively."
   ]
  },
  {
   "cell_type": "code",
   "execution_count": 23,
   "metadata": {},
   "outputs": [],
   "source": [
    "# Drop unnecessary columns.\n",
    "df.drop(columns=[\"year\", \"year_month\"], inplace=True)"
   ]
  },
  {
   "cell_type": "markdown",
   "metadata": {},
   "source": [
    "The date when the record was taken should not matter for predicting the tree health. \n",
    "Moreover, during inference new data will come at **out-of-distribution** dates which could lead to problems because of overfitting to older dates. \n",
    "Additionally, according to the documentation, the `date` field represents not the date when the tree was inspected, but rather when the record was entered into the system, which introduces some uncertainty about this parameter.\n",
    "\n",
    "The distribution above reassures that there are no major inconsistencies in the data based, hence no data needs to be removed, and we can instead simply drop the date field."
   ]
  },
  {
   "cell_type": "code",
   "execution_count": 24,
   "metadata": {},
   "outputs": [],
   "source": [
    "df.drop(columns=['created_at', 'created_at_datetime'], inplace=True)"
   ]
  },
  {
   "cell_type": "markdown",
   "metadata": {},
   "source": [
    "## Does the tree species matter?"
   ]
  },
  {
   "cell_type": "code",
   "execution_count": 25,
   "metadata": {},
   "outputs": [
    {
     "name": "stdout",
     "output_type": "stream",
     "text": [
      "132\n"
     ]
    }
   ],
   "source": [
    "print(df.spc_latin.nunique())"
   ]
  },
  {
   "cell_type": "markdown",
   "metadata": {},
   "source": [
    "The tree species should not matter for predicting a tree's health, hence discard it. Moreover, there are simply too many classes of tree species (132). This is not informative."
   ]
  },
  {
   "cell_type": "code",
   "execution_count": 26,
   "metadata": {},
   "outputs": [],
   "source": [
    "df.drop(columns=['spc_latin'], inplace=True)"
   ]
  },
  {
   "cell_type": "markdown",
   "metadata": {},
   "source": [
    "## User Type"
   ]
  },
  {
   "cell_type": "markdown",
   "metadata": {},
   "source": [
    "Let's check whether there is any difference between data recorded by different user types. If we see a serious difference in distributions, it's a sign that the data was not collected consistently between different user types."
   ]
  },
  {
   "cell_type": "code",
   "execution_count": 57,
   "metadata": {},
   "outputs": [
    {
     "data": {
      "image/png": "[encoded data removed]",
      "text/plain": [
       "<Figure size 1400x600 with 2 Axes>"
      ]
     },
     "metadata": {},
     "output_type": "display_data"
    }
   ],
   "source": [
    "# Extract the user type distribution\n",
    "user_type_vs_health_dist = {}\n",
    "for user_type in df.user_type.unique():\n",
    "    user_type_vs_health_dist[user_type] = {\n",
    "        k: v for k, v in df[df.user_type == user_type].health.value_counts().items()\n",
    "    }\n",
    "\n",
    "# Convert to a DataFrame and transpose\n",
    "df_plot = pd.DataFrame(user_type_vs_health_dist).T  # Rows: user types, Columns: health status\n",
    "\n",
    "# Fill missing values (e.g. some user types may not have all health categories)\n",
    "df_plot = df_plot.fillna(0)\n",
    "\n",
    "# Normalized version (percentages)\n",
    "df_norm = df_plot.div(df_plot.sum(axis=1), axis=0)\n",
    "\n",
    "# Create subplots\n",
    "fig, axes = plt.subplots(1, 2, figsize=(14, 6), sharex=True)\n",
    "\n",
    "# Raw counts\n",
    "df_plot.plot(kind='bar', ax=axes[0])\n",
    "axes[0].set_title('Unnormalized Tree Health Distribution by User Type')\n",
    "axes[0].set_ylabel('Count')\n",
    "axes[0].legend(title='Health')\n",
    "axes[0].tick_params(axis='x', rotation=0)\n",
    "\n",
    "# Normalized (percentages)\n",
    "df_norm.plot(kind='bar', ax=axes[1])\n",
    "axes[1].set_title('Normalized Tree Health Distribution by User Type')\n",
    "axes[1].set_ylabel('Proportion')\n",
    "axes[1].legend(title='Health')\n",
    "axes[1].tick_params(axis='x', rotation=0)\n",
    "\n",
    "# plt.xlabel('User Type')\n",
    "plt.tight_layout()\n",
    "plt.show()"
   ]
  },
  {
   "cell_type": "markdown",
   "metadata": {},
   "source": [
    "There is little difference between the normalized distributions, suggesting that the different user types were quite consistent between each other when collecting data. While the fact who collected the data does not directly affect the tree health, it can affect the **label** assigned to the tree health. Therefore, we will keep this parameter."
   ]
  },
  {
   "cell_type": "markdown",
   "metadata": {},
   "source": [
    "## Null Values"
   ]
  },
  {
   "cell_type": "markdown",
   "metadata": {},
   "source": [
    "Handle the null values."
   ]
  },
  {
   "cell_type": "code",
   "execution_count": 26,
   "metadata": {},
   "outputs": [
    {
     "data": {
      "text/plain": [
       "tree_dbh           0\n",
       "curb_loc           0\n",
       "health             1\n",
       "steward       487823\n",
       "guards        572307\n",
       "sidewalk           1\n",
       "user_type          0\n",
       "root_stone         0\n",
       "root_grate         0\n",
       "root_other         0\n",
       "trunk_wire         0\n",
       "trnk_light         0\n",
       "trnk_other         0\n",
       "brch_light         0\n",
       "brch_shoe          0\n",
       "brch_other         0\n",
       "x_sp               0\n",
       "y_sp               0\n",
       "dtype: int64"
      ]
     },
     "execution_count": 26,
     "metadata": {},
     "output_type": "execute_result"
    }
   ],
   "source": [
    "df.isnull().sum()"
   ]
  },
  {
   "cell_type": "markdown",
   "metadata": {},
   "source": [
    "`Steward` and `guard` fields can be filled with `None` values wherever its a `null` value."
   ]
  },
  {
   "cell_type": "code",
   "execution_count": 27,
   "metadata": {},
   "outputs": [],
   "source": [
    "df['steward'] = df['steward'].fillna('None')\n",
    "df['guards'] = df['guards'].fillna('None')"
   ]
  },
  {
   "cell_type": "markdown",
   "metadata": {},
   "source": [
    "Null values in other fields are so little that we can simply remove those records without in any significant way affecting the amount of data available."
   ]
  },
  {
   "cell_type": "code",
   "execution_count": 28,
   "metadata": {},
   "outputs": [
    {
     "name": "stdout",
     "output_type": "stream",
     "text": [
      "652173\n",
      "652171\n"
     ]
    }
   ],
   "source": [
    "print(len(df))\n",
    "df.dropna(inplace=True)\n",
    "print(len(df))"
   ]
  },
  {
   "cell_type": "code",
   "execution_count": 29,
   "metadata": {},
   "outputs": [
    {
     "data": {
      "text/plain": [
       "tree_dbh      0\n",
       "curb_loc      0\n",
       "health        0\n",
       "steward       0\n",
       "guards        0\n",
       "sidewalk      0\n",
       "user_type     0\n",
       "root_stone    0\n",
       "root_grate    0\n",
       "root_other    0\n",
       "trunk_wire    0\n",
       "trnk_light    0\n",
       "trnk_other    0\n",
       "brch_light    0\n",
       "brch_shoe     0\n",
       "brch_other    0\n",
       "x_sp          0\n",
       "y_sp          0\n",
       "dtype: int64"
      ]
     },
     "execution_count": 29,
     "metadata": {},
     "output_type": "execute_result"
    }
   ],
   "source": [
    "df.isnull().sum() # there should be no null values left"
   ]
  },
  {
   "cell_type": "markdown",
   "metadata": {},
   "source": [
    "## Tree diameter vs health"
   ]
  },
  {
   "cell_type": "code",
   "execution_count": 30,
   "metadata": {},
   "outputs": [
    {
     "data": {
      "image/png": "[encoded data removed]",
      "text/plain": [
       "<Figure size 640x480 with 1 Axes>"
      ]
     },
     "metadata": {},
     "output_type": "display_data"
    }
   ],
   "source": [
    "fig, ax = plt.subplots()\n",
    "\n",
    "for health in [\"Good\", \"Fair\", \"Poor\"]:\n",
    "    ax.hist(\n",
    "        df[df['health'] == health]['tree_dbh'],\n",
    "        # bins=200,\n",
    "        bins=np.linspace(0, 50, 51),\n",
    "        label=health,\n",
    "        alpha=0.75,\n",
    "        density=True # comment this line to see the unnormalized distribution\n",
    "    )\n",
    "ax.set_xlim([0, 50])\n",
    "ax.set_title(\"Tree Health vs Tree Diameter\")\n",
    "ax.set_xlabel(\"Tree diameter\")\n",
    "ax.set_ylabel(\"Frequency\")\n",
    "ax.grid(axis='x')\n",
    "ax.legend()\n",
    "\n",
    "plt.show()"
   ]
  },
  {
   "cell_type": "markdown",
   "metadata": {},
   "source": [
    "It looks like healthier trees have a heavier distribution tail towards larger diameters. Moreover, weaker trees are more likely to have diameters in the approximate range of [0, 8].\n",
    "\n",
    "It sort of makes sense, because weaker trees either are too young (hence thinner) or simply don't get enough nutrition to grow wider."
   ]
  },
  {
   "cell_type": "markdown",
   "metadata": {},
   "source": [
    "## Summary of the Remaining Data"
   ]
  },
  {
   "cell_type": "code",
   "execution_count": 31,
   "metadata": {},
   "outputs": [
    {
     "name": "stdout",
     "output_type": "stream",
     "text": [
      "Data points preserved: 652171\n",
      "Features preserved: 18\n",
      "Number of null values: 0\n",
      "--------------------------------------------------------------------------------\n",
      "Number of classes per categorical variable:\n",
      "curb_loc      2\n",
      "health        3\n",
      "steward       4\n",
      "guards        4\n",
      "sidewalk      2\n",
      "user_type     3\n",
      "root_stone    2\n",
      "root_grate    2\n",
      "root_other    2\n",
      "trunk_wire    2\n",
      "trnk_light    2\n",
      "trnk_other    2\n",
      "brch_light    2\n",
      "brch_shoe     2\n",
      "brch_other    2\n",
      "dtype: int64\n"
     ]
    }
   ],
   "source": [
    "print(f\"Data points preserved: {len(df)}\")\n",
    "print(f\"Features preserved: {len(df.columns)}\")\n",
    "print(f\"Number of null values: {sum(df.isnull().sum())}\")\n",
    "print(\"-\" * 80)\n",
    "print(f\"Number of classes per categorical variable:\\n{df[df.columns[df.dtypes == 'object']].nunique()}\")"
   ]
  },
  {
   "cell_type": "markdown",
   "metadata": {},
   "source": [
    "# Conflicting Records (IMPORTANT)"
   ]
  },
  {
   "cell_type": "markdown",
   "metadata": {},
   "source": [
    "In our dataset, we have very little **local** features describing the trees, i.e. features which directly affect the tree health (e.g. the presence of problems with the root, or the absence of guards). Given that the number of records in the dataset is significantly greater than the number of local features, it can lead to a very serious problem from the ML perspective: the same **local** features might map to different labels. Consider the example below."
   ]
  },
  {
   "cell_type": "code",
   "execution_count": 104,
   "metadata": {},
   "outputs": [],
   "source": [
    "def get_one_conflicting_group(df):\n",
    "    input_cols = [col for col in df.columns if col not in ['tree_dbh', 'x_sp', 'y_sp', 'user_type', 'health_Good', 'health_Fair', 'health_Poor']]\n",
    "    target_cols = ['health_Good', 'health_Fair', 'health_Poor']\n",
    "\n",
    "    # Group by input columns and check how many unique one-hot target combinations exist per group\n",
    "    label_variation = df.groupby(input_cols)[target_cols].nunique()\n",
    "\n",
    "    # Identify input combinations where any label column has more than 1 unique value\n",
    "    conflicting_input_combos = label_variation[(label_variation > 1).any(axis=1)].index\n",
    "\n",
    "    # Take the first conflicting input combination\n",
    "    first_conflict = conflicting_input_combos[0]\n",
    "\n",
    "    # Convert the MultiIndex to a dictionary\n",
    "    conflict_dict = dict(zip(input_cols, first_conflict))\n",
    "\n",
    "    # Use `.loc` with masking to select rows matching the conflict input\n",
    "    mask = df[input_cols].eq(pd.Series(conflict_dict)).all(axis=1)\n",
    "\n",
    "    conflicting_group = df[mask].copy()\n",
    "\n",
    "    return conflicting_group\n"
   ]
  },
  {
   "cell_type": "code",
   "execution_count": 105,
   "metadata": {},
   "outputs": [],
   "source": [
    "data = pd.get_dummies(\n",
    "    df, \n",
    "    columns=['health'], \n",
    "    prefix='health',\n",
    "    dtype=np.float64\n",
    ")\n",
    "\n",
    "x = get_one_conflicting_group(data)"
   ]
  },
  {
   "cell_type": "code",
   "execution_count": 106,
   "metadata": {},
   "outputs": [
    {
     "data": {
      "text/html": [
       "<div>\n",
       "<style scoped>\n",
       "    .dataframe tbody tr th:only-of-type {\n",
       "        vertical-align: middle;\n",
       "    }\n",
       "\n",
       "    .dataframe tbody tr th {\n",
       "        vertical-align: top;\n",
       "    }\n",
       "\n",
       "    .dataframe thead th {\n",
       "        text-align: right;\n",
       "    }\n",
       "</style>\n",
       "<table border=\"1\" class=\"dataframe\">\n",
       "  <thead>\n",
       "    <tr style=\"text-align: right;\">\n",
       "      <th></th>\n",
       "      <th>tree_dbh</th>\n",
       "      <th>curb_loc</th>\n",
       "      <th>steward</th>\n",
       "      <th>guards</th>\n",
       "      <th>sidewalk</th>\n",
       "      <th>user_type</th>\n",
       "      <th>root_stone</th>\n",
       "      <th>root_grate</th>\n",
       "      <th>root_other</th>\n",
       "      <th>trunk_wire</th>\n",
       "      <th>trnk_light</th>\n",
       "      <th>trnk_other</th>\n",
       "      <th>brch_light</th>\n",
       "      <th>brch_shoe</th>\n",
       "      <th>brch_other</th>\n",
       "      <th>x_sp</th>\n",
       "      <th>y_sp</th>\n",
       "    </tr>\n",
       "  </thead>\n",
       "  <tbody>\n",
       "    <tr>\n",
       "      <th>392347</th>\n",
       "      <td>8</td>\n",
       "      <td>OffsetFromCurb</td>\n",
       "      <td>1or2</td>\n",
       "      <td>Harmful</td>\n",
       "      <td>Damage</td>\n",
       "      <td>Volunteer</td>\n",
       "      <td>No</td>\n",
       "      <td>No</td>\n",
       "      <td>No</td>\n",
       "      <td>No</td>\n",
       "      <td>No</td>\n",
       "      <td>No</td>\n",
       "      <td>No</td>\n",
       "      <td>No</td>\n",
       "      <td>No</td>\n",
       "      <td>1.000501e+06</td>\n",
       "      <td>182524.9716</td>\n",
       "    </tr>\n",
       "    <tr>\n",
       "      <th>392398</th>\n",
       "      <td>12</td>\n",
       "      <td>OffsetFromCurb</td>\n",
       "      <td>1or2</td>\n",
       "      <td>Harmful</td>\n",
       "      <td>Damage</td>\n",
       "      <td>Volunteer</td>\n",
       "      <td>No</td>\n",
       "      <td>No</td>\n",
       "      <td>No</td>\n",
       "      <td>No</td>\n",
       "      <td>No</td>\n",
       "      <td>No</td>\n",
       "      <td>No</td>\n",
       "      <td>No</td>\n",
       "      <td>No</td>\n",
       "      <td>1.000541e+06</td>\n",
       "      <td>182522.1291</td>\n",
       "    </tr>\n",
       "    <tr>\n",
       "      <th>394503</th>\n",
       "      <td>14</td>\n",
       "      <td>OffsetFromCurb</td>\n",
       "      <td>1or2</td>\n",
       "      <td>Harmful</td>\n",
       "      <td>Damage</td>\n",
       "      <td>Volunteer</td>\n",
       "      <td>No</td>\n",
       "      <td>No</td>\n",
       "      <td>No</td>\n",
       "      <td>No</td>\n",
       "      <td>No</td>\n",
       "      <td>No</td>\n",
       "      <td>No</td>\n",
       "      <td>No</td>\n",
       "      <td>No</td>\n",
       "      <td>1.000521e+06</td>\n",
       "      <td>182523.5576</td>\n",
       "    </tr>\n",
       "    <tr>\n",
       "      <th>401264</th>\n",
       "      <td>15</td>\n",
       "      <td>OffsetFromCurb</td>\n",
       "      <td>1or2</td>\n",
       "      <td>Harmful</td>\n",
       "      <td>Damage</td>\n",
       "      <td>Volunteer</td>\n",
       "      <td>No</td>\n",
       "      <td>No</td>\n",
       "      <td>No</td>\n",
       "      <td>No</td>\n",
       "      <td>No</td>\n",
       "      <td>No</td>\n",
       "      <td>No</td>\n",
       "      <td>No</td>\n",
       "      <td>No</td>\n",
       "      <td>1.000480e+06</td>\n",
       "      <td>182526.4001</td>\n",
       "    </tr>\n",
       "    <tr>\n",
       "      <th>542399</th>\n",
       "      <td>26</td>\n",
       "      <td>OffsetFromCurb</td>\n",
       "      <td>1or2</td>\n",
       "      <td>Harmful</td>\n",
       "      <td>Damage</td>\n",
       "      <td>TreesCount Staff</td>\n",
       "      <td>No</td>\n",
       "      <td>No</td>\n",
       "      <td>No</td>\n",
       "      <td>No</td>\n",
       "      <td>No</td>\n",
       "      <td>No</td>\n",
       "      <td>No</td>\n",
       "      <td>No</td>\n",
       "      <td>No</td>\n",
       "      <td>9.995225e+05</td>\n",
       "      <td>201262.4204</td>\n",
       "    </tr>\n",
       "    <tr>\n",
       "      <th>542969</th>\n",
       "      <td>18</td>\n",
       "      <td>OffsetFromCurb</td>\n",
       "      <td>1or2</td>\n",
       "      <td>Harmful</td>\n",
       "      <td>Damage</td>\n",
       "      <td>Volunteer</td>\n",
       "      <td>No</td>\n",
       "      <td>No</td>\n",
       "      <td>No</td>\n",
       "      <td>No</td>\n",
       "      <td>No</td>\n",
       "      <td>No</td>\n",
       "      <td>No</td>\n",
       "      <td>No</td>\n",
       "      <td>No</td>\n",
       "      <td>9.968706e+05</td>\n",
       "      <td>231094.3023</td>\n",
       "    </tr>\n",
       "    <tr>\n",
       "      <th>551924</th>\n",
       "      <td>17</td>\n",
       "      <td>OffsetFromCurb</td>\n",
       "      <td>1or2</td>\n",
       "      <td>Harmful</td>\n",
       "      <td>Damage</td>\n",
       "      <td>TreesCount Staff</td>\n",
       "      <td>No</td>\n",
       "      <td>No</td>\n",
       "      <td>No</td>\n",
       "      <td>No</td>\n",
       "      <td>No</td>\n",
       "      <td>No</td>\n",
       "      <td>No</td>\n",
       "      <td>No</td>\n",
       "      <td>No</td>\n",
       "      <td>9.836722e+05</td>\n",
       "      <td>205049.8911</td>\n",
       "    </tr>\n",
       "    <tr>\n",
       "      <th>558864</th>\n",
       "      <td>13</td>\n",
       "      <td>OffsetFromCurb</td>\n",
       "      <td>1or2</td>\n",
       "      <td>Harmful</td>\n",
       "      <td>Damage</td>\n",
       "      <td>TreesCount Staff</td>\n",
       "      <td>No</td>\n",
       "      <td>No</td>\n",
       "      <td>No</td>\n",
       "      <td>No</td>\n",
       "      <td>No</td>\n",
       "      <td>No</td>\n",
       "      <td>No</td>\n",
       "      <td>No</td>\n",
       "      <td>No</td>\n",
       "      <td>1.005551e+06</td>\n",
       "      <td>186677.6739</td>\n",
       "    </tr>\n",
       "    <tr>\n",
       "      <th>559052</th>\n",
       "      <td>10</td>\n",
       "      <td>OffsetFromCurb</td>\n",
       "      <td>1or2</td>\n",
       "      <td>Harmful</td>\n",
       "      <td>Damage</td>\n",
       "      <td>TreesCount Staff</td>\n",
       "      <td>No</td>\n",
       "      <td>No</td>\n",
       "      <td>No</td>\n",
       "      <td>No</td>\n",
       "      <td>No</td>\n",
       "      <td>No</td>\n",
       "      <td>No</td>\n",
       "      <td>No</td>\n",
       "      <td>No</td>\n",
       "      <td>1.005426e+06</td>\n",
       "      <td>186686.5857</td>\n",
       "    </tr>\n",
       "    <tr>\n",
       "      <th>559874</th>\n",
       "      <td>15</td>\n",
       "      <td>OffsetFromCurb</td>\n",
       "      <td>1or2</td>\n",
       "      <td>Harmful</td>\n",
       "      <td>Damage</td>\n",
       "      <td>TreesCount Staff</td>\n",
       "      <td>No</td>\n",
       "      <td>No</td>\n",
       "      <td>No</td>\n",
       "      <td>No</td>\n",
       "      <td>No</td>\n",
       "      <td>No</td>\n",
       "      <td>No</td>\n",
       "      <td>No</td>\n",
       "      <td>No</td>\n",
       "      <td>1.005321e+06</td>\n",
       "      <td>186694.1437</td>\n",
       "    </tr>\n",
       "    <tr>\n",
       "      <th>560671</th>\n",
       "      <td>12</td>\n",
       "      <td>OffsetFromCurb</td>\n",
       "      <td>1or2</td>\n",
       "      <td>Harmful</td>\n",
       "      <td>Damage</td>\n",
       "      <td>TreesCount Staff</td>\n",
       "      <td>No</td>\n",
       "      <td>No</td>\n",
       "      <td>No</td>\n",
       "      <td>No</td>\n",
       "      <td>No</td>\n",
       "      <td>No</td>\n",
       "      <td>No</td>\n",
       "      <td>No</td>\n",
       "      <td>No</td>\n",
       "      <td>1.005719e+06</td>\n",
       "      <td>186665.6710</td>\n",
       "    </tr>\n",
       "    <tr>\n",
       "      <th>568273</th>\n",
       "      <td>9</td>\n",
       "      <td>OffsetFromCurb</td>\n",
       "      <td>1or2</td>\n",
       "      <td>Harmful</td>\n",
       "      <td>Damage</td>\n",
       "      <td>TreesCount Staff</td>\n",
       "      <td>No</td>\n",
       "      <td>No</td>\n",
       "      <td>No</td>\n",
       "      <td>No</td>\n",
       "      <td>No</td>\n",
       "      <td>No</td>\n",
       "      <td>No</td>\n",
       "      <td>No</td>\n",
       "      <td>No</td>\n",
       "      <td>1.005129e+06</td>\n",
       "      <td>186707.7992</td>\n",
       "    </tr>\n",
       "    <tr>\n",
       "      <th>568358</th>\n",
       "      <td>10</td>\n",
       "      <td>OffsetFromCurb</td>\n",
       "      <td>1or2</td>\n",
       "      <td>Harmful</td>\n",
       "      <td>Damage</td>\n",
       "      <td>TreesCount Staff</td>\n",
       "      <td>No</td>\n",
       "      <td>No</td>\n",
       "      <td>No</td>\n",
       "      <td>No</td>\n",
       "      <td>No</td>\n",
       "      <td>No</td>\n",
       "      <td>No</td>\n",
       "      <td>No</td>\n",
       "      <td>No</td>\n",
       "      <td>1.005736e+06</td>\n",
       "      <td>186664.4528</td>\n",
       "    </tr>\n",
       "    <tr>\n",
       "      <th>568508</th>\n",
       "      <td>11</td>\n",
       "      <td>OffsetFromCurb</td>\n",
       "      <td>1or2</td>\n",
       "      <td>Harmful</td>\n",
       "      <td>Damage</td>\n",
       "      <td>Volunteer</td>\n",
       "      <td>No</td>\n",
       "      <td>No</td>\n",
       "      <td>No</td>\n",
       "      <td>No</td>\n",
       "      <td>No</td>\n",
       "      <td>No</td>\n",
       "      <td>No</td>\n",
       "      <td>No</td>\n",
       "      <td>No</td>\n",
       "      <td>9.931539e+05</td>\n",
       "      <td>232513.0560</td>\n",
       "    </tr>\n",
       "    <tr>\n",
       "      <th>568719</th>\n",
       "      <td>10</td>\n",
       "      <td>OffsetFromCurb</td>\n",
       "      <td>1or2</td>\n",
       "      <td>Harmful</td>\n",
       "      <td>Damage</td>\n",
       "      <td>Volunteer</td>\n",
       "      <td>No</td>\n",
       "      <td>No</td>\n",
       "      <td>No</td>\n",
       "      <td>No</td>\n",
       "      <td>No</td>\n",
       "      <td>No</td>\n",
       "      <td>No</td>\n",
       "      <td>No</td>\n",
       "      <td>No</td>\n",
       "      <td>9.931564e+05</td>\n",
       "      <td>232539.7374</td>\n",
       "    </tr>\n",
       "    <tr>\n",
       "      <th>574249</th>\n",
       "      <td>9</td>\n",
       "      <td>OffsetFromCurb</td>\n",
       "      <td>1or2</td>\n",
       "      <td>Harmful</td>\n",
       "      <td>Damage</td>\n",
       "      <td>TreesCount Staff</td>\n",
       "      <td>No</td>\n",
       "      <td>No</td>\n",
       "      <td>No</td>\n",
       "      <td>No</td>\n",
       "      <td>No</td>\n",
       "      <td>No</td>\n",
       "      <td>No</td>\n",
       "      <td>No</td>\n",
       "      <td>No</td>\n",
       "      <td>1.005321e+06</td>\n",
       "      <td>186694.1437</td>\n",
       "    </tr>\n",
       "    <tr>\n",
       "      <th>579038</th>\n",
       "      <td>9</td>\n",
       "      <td>OffsetFromCurb</td>\n",
       "      <td>1or2</td>\n",
       "      <td>Harmful</td>\n",
       "      <td>Damage</td>\n",
       "      <td>Volunteer</td>\n",
       "      <td>No</td>\n",
       "      <td>No</td>\n",
       "      <td>No</td>\n",
       "      <td>No</td>\n",
       "      <td>No</td>\n",
       "      <td>No</td>\n",
       "      <td>No</td>\n",
       "      <td>No</td>\n",
       "      <td>No</td>\n",
       "      <td>9.974179e+05</td>\n",
       "      <td>226413.7119</td>\n",
       "    </tr>\n",
       "    <tr>\n",
       "      <th>582492</th>\n",
       "      <td>10</td>\n",
       "      <td>OffsetFromCurb</td>\n",
       "      <td>1or2</td>\n",
       "      <td>Harmful</td>\n",
       "      <td>Damage</td>\n",
       "      <td>Volunteer</td>\n",
       "      <td>No</td>\n",
       "      <td>No</td>\n",
       "      <td>No</td>\n",
       "      <td>No</td>\n",
       "      <td>No</td>\n",
       "      <td>No</td>\n",
       "      <td>No</td>\n",
       "      <td>No</td>\n",
       "      <td>No</td>\n",
       "      <td>9.931640e+05</td>\n",
       "      <td>232608.2546</td>\n",
       "    </tr>\n",
       "    <tr>\n",
       "      <th>585695</th>\n",
       "      <td>9</td>\n",
       "      <td>OffsetFromCurb</td>\n",
       "      <td>1or2</td>\n",
       "      <td>Harmful</td>\n",
       "      <td>Damage</td>\n",
       "      <td>Volunteer</td>\n",
       "      <td>No</td>\n",
       "      <td>No</td>\n",
       "      <td>No</td>\n",
       "      <td>No</td>\n",
       "      <td>No</td>\n",
       "      <td>No</td>\n",
       "      <td>No</td>\n",
       "      <td>No</td>\n",
       "      <td>No</td>\n",
       "      <td>9.975072e+05</td>\n",
       "      <td>226364.2435</td>\n",
       "    </tr>\n",
       "    <tr>\n",
       "      <th>588093</th>\n",
       "      <td>10</td>\n",
       "      <td>OffsetFromCurb</td>\n",
       "      <td>1or2</td>\n",
       "      <td>Harmful</td>\n",
       "      <td>Damage</td>\n",
       "      <td>Volunteer</td>\n",
       "      <td>No</td>\n",
       "      <td>No</td>\n",
       "      <td>No</td>\n",
       "      <td>No</td>\n",
       "      <td>No</td>\n",
       "      <td>No</td>\n",
       "      <td>No</td>\n",
       "      <td>No</td>\n",
       "      <td>No</td>\n",
       "      <td>9.975289e+05</td>\n",
       "      <td>226352.2281</td>\n",
       "    </tr>\n",
       "    <tr>\n",
       "      <th>588981</th>\n",
       "      <td>9</td>\n",
       "      <td>OffsetFromCurb</td>\n",
       "      <td>1or2</td>\n",
       "      <td>Harmful</td>\n",
       "      <td>Damage</td>\n",
       "      <td>Volunteer</td>\n",
       "      <td>No</td>\n",
       "      <td>No</td>\n",
       "      <td>No</td>\n",
       "      <td>No</td>\n",
       "      <td>No</td>\n",
       "      <td>No</td>\n",
       "      <td>No</td>\n",
       "      <td>No</td>\n",
       "      <td>No</td>\n",
       "      <td>9.974843e+05</td>\n",
       "      <td>226376.9374</td>\n",
       "    </tr>\n",
       "    <tr>\n",
       "      <th>593388</th>\n",
       "      <td>15</td>\n",
       "      <td>OffsetFromCurb</td>\n",
       "      <td>1or2</td>\n",
       "      <td>Harmful</td>\n",
       "      <td>Damage</td>\n",
       "      <td>Volunteer</td>\n",
       "      <td>No</td>\n",
       "      <td>No</td>\n",
       "      <td>No</td>\n",
       "      <td>No</td>\n",
       "      <td>No</td>\n",
       "      <td>No</td>\n",
       "      <td>No</td>\n",
       "      <td>No</td>\n",
       "      <td>No</td>\n",
       "      <td>9.893816e+05</td>\n",
       "      <td>183660.4208</td>\n",
       "    </tr>\n",
       "    <tr>\n",
       "      <th>595281</th>\n",
       "      <td>2</td>\n",
       "      <td>OffsetFromCurb</td>\n",
       "      <td>1or2</td>\n",
       "      <td>Harmful</td>\n",
       "      <td>Damage</td>\n",
       "      <td>Volunteer</td>\n",
       "      <td>No</td>\n",
       "      <td>No</td>\n",
       "      <td>No</td>\n",
       "      <td>No</td>\n",
       "      <td>No</td>\n",
       "      <td>No</td>\n",
       "      <td>No</td>\n",
       "      <td>No</td>\n",
       "      <td>No</td>\n",
       "      <td>9.858311e+05</td>\n",
       "      <td>187465.5513</td>\n",
       "    </tr>\n",
       "    <tr>\n",
       "      <th>596173</th>\n",
       "      <td>2</td>\n",
       "      <td>OffsetFromCurb</td>\n",
       "      <td>1or2</td>\n",
       "      <td>Harmful</td>\n",
       "      <td>Damage</td>\n",
       "      <td>Volunteer</td>\n",
       "      <td>No</td>\n",
       "      <td>No</td>\n",
       "      <td>No</td>\n",
       "      <td>No</td>\n",
       "      <td>No</td>\n",
       "      <td>No</td>\n",
       "      <td>No</td>\n",
       "      <td>No</td>\n",
       "      <td>No</td>\n",
       "      <td>9.858427e+05</td>\n",
       "      <td>187488.0362</td>\n",
       "    </tr>\n",
       "    <tr>\n",
       "      <th>599426</th>\n",
       "      <td>9</td>\n",
       "      <td>OffsetFromCurb</td>\n",
       "      <td>1or2</td>\n",
       "      <td>Harmful</td>\n",
       "      <td>Damage</td>\n",
       "      <td>Volunteer</td>\n",
       "      <td>No</td>\n",
       "      <td>No</td>\n",
       "      <td>No</td>\n",
       "      <td>No</td>\n",
       "      <td>No</td>\n",
       "      <td>No</td>\n",
       "      <td>No</td>\n",
       "      <td>No</td>\n",
       "      <td>No</td>\n",
       "      <td>9.974401e+05</td>\n",
       "      <td>226401.4537</td>\n",
       "    </tr>\n",
       "    <tr>\n",
       "      <th>601087</th>\n",
       "      <td>8</td>\n",
       "      <td>OffsetFromCurb</td>\n",
       "      <td>1or2</td>\n",
       "      <td>Harmful</td>\n",
       "      <td>Damage</td>\n",
       "      <td>Volunteer</td>\n",
       "      <td>No</td>\n",
       "      <td>No</td>\n",
       "      <td>No</td>\n",
       "      <td>No</td>\n",
       "      <td>No</td>\n",
       "      <td>No</td>\n",
       "      <td>No</td>\n",
       "      <td>No</td>\n",
       "      <td>No</td>\n",
       "      <td>9.974626e+05</td>\n",
       "      <td>226388.9534</td>\n",
       "    </tr>\n",
       "    <tr>\n",
       "      <th>601414</th>\n",
       "      <td>11</td>\n",
       "      <td>OffsetFromCurb</td>\n",
       "      <td>1or2</td>\n",
       "      <td>Harmful</td>\n",
       "      <td>Damage</td>\n",
       "      <td>Volunteer</td>\n",
       "      <td>No</td>\n",
       "      <td>No</td>\n",
       "      <td>No</td>\n",
       "      <td>No</td>\n",
       "      <td>No</td>\n",
       "      <td>No</td>\n",
       "      <td>No</td>\n",
       "      <td>No</td>\n",
       "      <td>No</td>\n",
       "      <td>9.893518e+05</td>\n",
       "      <td>183613.2982</td>\n",
       "    </tr>\n",
       "    <tr>\n",
       "      <th>617795</th>\n",
       "      <td>11</td>\n",
       "      <td>OffsetFromCurb</td>\n",
       "      <td>1or2</td>\n",
       "      <td>Harmful</td>\n",
       "      <td>Damage</td>\n",
       "      <td>Volunteer</td>\n",
       "      <td>No</td>\n",
       "      <td>No</td>\n",
       "      <td>No</td>\n",
       "      <td>No</td>\n",
       "      <td>No</td>\n",
       "      <td>No</td>\n",
       "      <td>No</td>\n",
       "      <td>No</td>\n",
       "      <td>No</td>\n",
       "      <td>9.931278e+05</td>\n",
       "      <td>229698.4265</td>\n",
       "    </tr>\n",
       "    <tr>\n",
       "      <th>618677</th>\n",
       "      <td>9</td>\n",
       "      <td>OffsetFromCurb</td>\n",
       "      <td>1or2</td>\n",
       "      <td>Harmful</td>\n",
       "      <td>Damage</td>\n",
       "      <td>Volunteer</td>\n",
       "      <td>No</td>\n",
       "      <td>No</td>\n",
       "      <td>No</td>\n",
       "      <td>No</td>\n",
       "      <td>No</td>\n",
       "      <td>No</td>\n",
       "      <td>No</td>\n",
       "      <td>No</td>\n",
       "      <td>No</td>\n",
       "      <td>9.958783e+05</td>\n",
       "      <td>206777.5238</td>\n",
       "    </tr>\n",
       "    <tr>\n",
       "      <th>619004</th>\n",
       "      <td>12</td>\n",
       "      <td>OffsetFromCurb</td>\n",
       "      <td>1or2</td>\n",
       "      <td>Harmful</td>\n",
       "      <td>Damage</td>\n",
       "      <td>Volunteer</td>\n",
       "      <td>No</td>\n",
       "      <td>No</td>\n",
       "      <td>No</td>\n",
       "      <td>No</td>\n",
       "      <td>No</td>\n",
       "      <td>No</td>\n",
       "      <td>No</td>\n",
       "      <td>No</td>\n",
       "      <td>No</td>\n",
       "      <td>9.958985e+05</td>\n",
       "      <td>206780.0383</td>\n",
       "    </tr>\n",
       "    <tr>\n",
       "      <th>619372</th>\n",
       "      <td>19</td>\n",
       "      <td>OffsetFromCurb</td>\n",
       "      <td>1or2</td>\n",
       "      <td>Harmful</td>\n",
       "      <td>Damage</td>\n",
       "      <td>Volunteer</td>\n",
       "      <td>No</td>\n",
       "      <td>No</td>\n",
       "      <td>No</td>\n",
       "      <td>No</td>\n",
       "      <td>No</td>\n",
       "      <td>No</td>\n",
       "      <td>No</td>\n",
       "      <td>No</td>\n",
       "      <td>No</td>\n",
       "      <td>9.930862e+05</td>\n",
       "      <td>229623.3722</td>\n",
       "    </tr>\n",
       "    <tr>\n",
       "      <th>643293</th>\n",
       "      <td>13</td>\n",
       "      <td>OffsetFromCurb</td>\n",
       "      <td>1or2</td>\n",
       "      <td>Harmful</td>\n",
       "      <td>Damage</td>\n",
       "      <td>Volunteer</td>\n",
       "      <td>No</td>\n",
       "      <td>No</td>\n",
       "      <td>No</td>\n",
       "      <td>No</td>\n",
       "      <td>No</td>\n",
       "      <td>No</td>\n",
       "      <td>No</td>\n",
       "      <td>No</td>\n",
       "      <td>No</td>\n",
       "      <td>9.899310e+05</td>\n",
       "      <td>183689.0428</td>\n",
       "    </tr>\n",
       "    <tr>\n",
       "      <th>670568</th>\n",
       "      <td>16</td>\n",
       "      <td>OffsetFromCurb</td>\n",
       "      <td>1or2</td>\n",
       "      <td>Harmful</td>\n",
       "      <td>Damage</td>\n",
       "      <td>Volunteer</td>\n",
       "      <td>No</td>\n",
       "      <td>No</td>\n",
       "      <td>No</td>\n",
       "      <td>No</td>\n",
       "      <td>No</td>\n",
       "      <td>No</td>\n",
       "      <td>No</td>\n",
       "      <td>No</td>\n",
       "      <td>No</td>\n",
       "      <td>9.945478e+05</td>\n",
       "      <td>195765.9136</td>\n",
       "    </tr>\n",
       "  </tbody>\n",
       "</table>\n",
       "</div>"
      ],
      "text/plain": [
       "        tree_dbh        curb_loc steward   guards sidewalk         user_type  \\\n",
       "392347         8  OffsetFromCurb    1or2  Harmful   Damage         Volunteer   \n",
       "392398        12  OffsetFromCurb    1or2  Harmful   Damage         Volunteer   \n",
       "394503        14  OffsetFromCurb    1or2  Harmful   Damage         Volunteer   \n",
       "401264        15  OffsetFromCurb    1or2  Harmful   Damage         Volunteer   \n",
       "542399        26  OffsetFromCurb    1or2  Harmful   Damage  TreesCount Staff   \n",
       "542969        18  OffsetFromCurb    1or2  Harmful   Damage         Volunteer   \n",
       "551924        17  OffsetFromCurb    1or2  Harmful   Damage  TreesCount Staff   \n",
       "558864        13  OffsetFromCurb    1or2  Harmful   Damage  TreesCount Staff   \n",
       "559052        10  OffsetFromCurb    1or2  Harmful   Damage  TreesCount Staff   \n",
       "559874        15  OffsetFromCurb    1or2  Harmful   Damage  TreesCount Staff   \n",
       "560671        12  OffsetFromCurb    1or2  Harmful   Damage  TreesCount Staff   \n",
       "568273         9  OffsetFromCurb    1or2  Harmful   Damage  TreesCount Staff   \n",
       "568358        10  OffsetFromCurb    1or2  Harmful   Damage  TreesCount Staff   \n",
       "568508        11  OffsetFromCurb    1or2  Harmful   Damage         Volunteer   \n",
       "568719        10  OffsetFromCurb    1or2  Harmful   Damage         Volunteer   \n",
       "574249         9  OffsetFromCurb    1or2  Harmful   Damage  TreesCount Staff   \n",
       "579038         9  OffsetFromCurb    1or2  Harmful   Damage         Volunteer   \n",
       "582492        10  OffsetFromCurb    1or2  Harmful   Damage         Volunteer   \n",
       "585695         9  OffsetFromCurb    1or2  Harmful   Damage         Volunteer   \n",
       "588093        10  OffsetFromCurb    1or2  Harmful   Damage         Volunteer   \n",
       "588981         9  OffsetFromCurb    1or2  Harmful   Damage         Volunteer   \n",
       "593388        15  OffsetFromCurb    1or2  Harmful   Damage         Volunteer   \n",
       "595281         2  OffsetFromCurb    1or2  Harmful   Damage         Volunteer   \n",
       "596173         2  OffsetFromCurb    1or2  Harmful   Damage         Volunteer   \n",
       "599426         9  OffsetFromCurb    1or2  Harmful   Damage         Volunteer   \n",
       "601087         8  OffsetFromCurb    1or2  Harmful   Damage         Volunteer   \n",
       "601414        11  OffsetFromCurb    1or2  Harmful   Damage         Volunteer   \n",
       "617795        11  OffsetFromCurb    1or2  Harmful   Damage         Volunteer   \n",
       "618677         9  OffsetFromCurb    1or2  Harmful   Damage         Volunteer   \n",
       "619004        12  OffsetFromCurb    1or2  Harmful   Damage         Volunteer   \n",
       "619372        19  OffsetFromCurb    1or2  Harmful   Damage         Volunteer   \n",
       "643293        13  OffsetFromCurb    1or2  Harmful   Damage         Volunteer   \n",
       "670568        16  OffsetFromCurb    1or2  Harmful   Damage         Volunteer   \n",
       "\n",
       "       root_stone root_grate root_other trunk_wire trnk_light trnk_other  \\\n",
       "392347         No         No         No         No         No         No   \n",
       "392398         No         No         No         No         No         No   \n",
       "394503         No         No         No         No         No         No   \n",
       "401264         No         No         No         No         No         No   \n",
       "542399         No         No         No         No         No         No   \n",
       "542969         No         No         No         No         No         No   \n",
       "551924         No         No         No         No         No         No   \n",
       "558864         No         No         No         No         No         No   \n",
       "559052         No         No         No         No         No         No   \n",
       "559874         No         No         No         No         No         No   \n",
       "560671         No         No         No         No         No         No   \n",
       "568273         No         No         No         No         No         No   \n",
       "568358         No         No         No         No         No         No   \n",
       "568508         No         No         No         No         No         No   \n",
       "568719         No         No         No         No         No         No   \n",
       "574249         No         No         No         No         No         No   \n",
       "579038         No         No         No         No         No         No   \n",
       "582492         No         No         No         No         No         No   \n",
       "585695         No         No         No         No         No         No   \n",
       "588093         No         No         No         No         No         No   \n",
       "588981         No         No         No         No         No         No   \n",
       "593388         No         No         No         No         No         No   \n",
       "595281         No         No         No         No         No         No   \n",
       "596173         No         No         No         No         No         No   \n",
       "599426         No         No         No         No         No         No   \n",
       "601087         No         No         No         No         No         No   \n",
       "601414         No         No         No         No         No         No   \n",
       "617795         No         No         No         No         No         No   \n",
       "618677         No         No         No         No         No         No   \n",
       "619004         No         No         No         No         No         No   \n",
       "619372         No         No         No         No         No         No   \n",
       "643293         No         No         No         No         No         No   \n",
       "670568         No         No         No         No         No         No   \n",
       "\n",
       "       brch_light brch_shoe brch_other          x_sp         y_sp  \n",
       "392347         No        No         No  1.000501e+06  182524.9716  \n",
       "392398         No        No         No  1.000541e+06  182522.1291  \n",
       "394503         No        No         No  1.000521e+06  182523.5576  \n",
       "401264         No        No         No  1.000480e+06  182526.4001  \n",
       "542399         No        No         No  9.995225e+05  201262.4204  \n",
       "542969         No        No         No  9.968706e+05  231094.3023  \n",
       "551924         No        No         No  9.836722e+05  205049.8911  \n",
       "558864         No        No         No  1.005551e+06  186677.6739  \n",
       "559052         No        No         No  1.005426e+06  186686.5857  \n",
       "559874         No        No         No  1.005321e+06  186694.1437  \n",
       "560671         No        No         No  1.005719e+06  186665.6710  \n",
       "568273         No        No         No  1.005129e+06  186707.7992  \n",
       "568358         No        No         No  1.005736e+06  186664.4528  \n",
       "568508         No        No         No  9.931539e+05  232513.0560  \n",
       "568719         No        No         No  9.931564e+05  232539.7374  \n",
       "574249         No        No         No  1.005321e+06  186694.1437  \n",
       "579038         No        No         No  9.974179e+05  226413.7119  \n",
       "582492         No        No         No  9.931640e+05  232608.2546  \n",
       "585695         No        No         No  9.975072e+05  226364.2435  \n",
       "588093         No        No         No  9.975289e+05  226352.2281  \n",
       "588981         No        No         No  9.974843e+05  226376.9374  \n",
       "593388         No        No         No  9.893816e+05  183660.4208  \n",
       "595281         No        No         No  9.858311e+05  187465.5513  \n",
       "596173         No        No         No  9.858427e+05  187488.0362  \n",
       "599426         No        No         No  9.974401e+05  226401.4537  \n",
       "601087         No        No         No  9.974626e+05  226388.9534  \n",
       "601414         No        No         No  9.893518e+05  183613.2982  \n",
       "617795         No        No         No  9.931278e+05  229698.4265  \n",
       "618677         No        No         No  9.958783e+05  206777.5238  \n",
       "619004         No        No         No  9.958985e+05  206780.0383  \n",
       "619372         No        No         No  9.930862e+05  229623.3722  \n",
       "643293         No        No         No  9.899310e+05  183689.0428  \n",
       "670568         No        No         No  9.945478e+05  195765.9136  "
      ]
     },
     "execution_count": 106,
     "metadata": {},
     "output_type": "execute_result"
    }
   ],
   "source": [
    "x.drop(columns=['health_Poor', 'health_Good', 'health_Fair'])"
   ]
  },
  {
   "cell_type": "code",
   "execution_count": 103,
   "metadata": {},
   "outputs": [
    {
     "data": {
      "text/html": [
       "<div>\n",
       "<style scoped>\n",
       "    .dataframe tbody tr th:only-of-type {\n",
       "        vertical-align: middle;\n",
       "    }\n",
       "\n",
       "    .dataframe tbody tr th {\n",
       "        vertical-align: top;\n",
       "    }\n",
       "\n",
       "    .dataframe thead th {\n",
       "        text-align: right;\n",
       "    }\n",
       "</style>\n",
       "<table border=\"1\" class=\"dataframe\">\n",
       "  <thead>\n",
       "    <tr style=\"text-align: right;\">\n",
       "      <th></th>\n",
       "      <th>health_Poor</th>\n",
       "      <th>health_Good</th>\n",
       "      <th>health_Fair</th>\n",
       "    </tr>\n",
       "  </thead>\n",
       "  <tbody>\n",
       "    <tr>\n",
       "      <th>542399</th>\n",
       "      <td>0.0</td>\n",
       "      <td>1.0</td>\n",
       "      <td>0.0</td>\n",
       "    </tr>\n",
       "    <tr>\n",
       "      <th>551924</th>\n",
       "      <td>0.0</td>\n",
       "      <td>0.0</td>\n",
       "      <td>1.0</td>\n",
       "    </tr>\n",
       "    <tr>\n",
       "      <th>558864</th>\n",
       "      <td>0.0</td>\n",
       "      <td>0.0</td>\n",
       "      <td>1.0</td>\n",
       "    </tr>\n",
       "    <tr>\n",
       "      <th>559052</th>\n",
       "      <td>0.0</td>\n",
       "      <td>1.0</td>\n",
       "      <td>0.0</td>\n",
       "    </tr>\n",
       "    <tr>\n",
       "      <th>559874</th>\n",
       "      <td>0.0</td>\n",
       "      <td>0.0</td>\n",
       "      <td>1.0</td>\n",
       "    </tr>\n",
       "    <tr>\n",
       "      <th>560671</th>\n",
       "      <td>0.0</td>\n",
       "      <td>0.0</td>\n",
       "      <td>1.0</td>\n",
       "    </tr>\n",
       "    <tr>\n",
       "      <th>568273</th>\n",
       "      <td>0.0</td>\n",
       "      <td>0.0</td>\n",
       "      <td>1.0</td>\n",
       "    </tr>\n",
       "    <tr>\n",
       "      <th>568358</th>\n",
       "      <td>0.0</td>\n",
       "      <td>0.0</td>\n",
       "      <td>1.0</td>\n",
       "    </tr>\n",
       "    <tr>\n",
       "      <th>574249</th>\n",
       "      <td>0.0</td>\n",
       "      <td>0.0</td>\n",
       "      <td>1.0</td>\n",
       "    </tr>\n",
       "  </tbody>\n",
       "</table>\n",
       "</div>"
      ],
      "text/plain": [
       "        health_Poor  health_Good  health_Fair\n",
       "542399          0.0          1.0          0.0\n",
       "551924          0.0          0.0          1.0\n",
       "558864          0.0          0.0          1.0\n",
       "559052          0.0          1.0          0.0\n",
       "559874          0.0          0.0          1.0\n",
       "560671          0.0          0.0          1.0\n",
       "568273          0.0          0.0          1.0\n",
       "568358          0.0          0.0          1.0\n",
       "574249          0.0          0.0          1.0"
      ]
     },
     "execution_count": 103,
     "metadata": {},
     "output_type": "execute_result"
    }
   ],
   "source": [
    "x[['health_Poor', 'health_Good', 'health_Fair']]"
   ]
  },
  {
   "cell_type": "markdown",
   "metadata": {},
   "source": [
    "As you can notice, for the same set of **local** variables, such as `guards`, `sidewalk`, etc, the target labels are different. This is a very serious limitation of this dataset. \n",
    "\n",
    "Think of it this way: for the same set of **local** variables, one tree is labeled is healthy, but another tree that's located somewhere nearby is labeled as poor. This will force the model to learn the distribution based on non-local variables (such as X/Y coordinates), leading to incredible non-linearities in the latent space of the model. In other words, it won't learn what it should learn.\n",
    "\n",
    "The solution is to remove these conflicting records. However, it will cut a very big chunk of the data."
   ]
  }
 ],
 "metadata": {
  "kernelspec": {
   "display_name": "Python 3",
   "language": "python",
   "name": "python3"
  },
  "language_info": {
   "codemirror_mode": {
    "name": "ipython",
    "version": 3
   },
   "file_extension": ".py",
   "mimetype": "text/x-python",
   "name": "python",
   "nbconvert_exporter": "python",
   "pygments_lexer": "ipython3",
   "version": "3.10.16"
  }
 },
 "nbformat": 4,
 "nbformat_minor": 2
}
